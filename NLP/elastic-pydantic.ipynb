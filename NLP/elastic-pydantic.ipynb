{
 "cells": [
  {
   "cell_type": "code",
   "execution_count": 2,
   "metadata": {},
   "outputs": [
    {
     "name": "stdout",
     "output_type": "stream",
     "text": [
      "\n",
      "\u001b[1m[\u001b[0m\u001b[34;49mnotice\u001b[0m\u001b[1;39;49m]\u001b[0m\u001b[39;49m A new release of pip is available: \u001b[0m\u001b[31;49m24.2\u001b[0m\u001b[39;49m -> \u001b[0m\u001b[32;49m24.3.1\u001b[0m\n",
      "\u001b[1m[\u001b[0m\u001b[34;49mnotice\u001b[0m\u001b[1;39;49m]\u001b[0m\u001b[39;49m To update, run: \u001b[0m\u001b[32;49mpython3.11 -m pip install --upgrade pip\u001b[0m\n",
      "Note: you may need to restart the kernel to use updated packages.\n"
     ]
    }
   ],
   "source": [
    "pip install langchain-core langchain-google-vertexai pydantic elasticsearch --quiet"
   ]
  },
  {
   "cell_type": "code",
   "execution_count": 3,
   "metadata": {},
   "outputs": [],
   "source": [
    "from google.cloud import aiplatform\n",
    "\n",
    "aiplatform.init(project=\"vertexllama\", location=\"us-central1\")"
   ]
  },
  {
   "cell_type": "code",
   "execution_count": 4,
   "metadata": {},
   "outputs": [
    {
     "name": "stdout",
     "output_type": "stream",
     "text": [
      "Your browser has been opened to visit:\n",
      "\n",
      "    https://accounts.google.com/o/oauth2/auth?response_type=code&client_id=32555940559.apps.googleusercontent.com&redirect_uri=http%3A%2F%2Flocalhost%3A8085%2F&scope=openid+https%3A%2F%2Fwww.googleapis.com%2Fauth%2Fuserinfo.email+https%3A%2F%2Fwww.googleapis.com%2Fauth%2Fcloud-platform+https%3A%2F%2Fwww.googleapis.com%2Fauth%2Fappengine.admin+https%3A%2F%2Fwww.googleapis.com%2Fauth%2Fsqlservice.login+https%3A%2F%2Fwww.googleapis.com%2Fauth%2Fcompute+https%3A%2F%2Fwww.googleapis.com%2Fauth%2Faccounts.reauth&state=fqshEL3ocX0rY8UfP9sSaO6R3XCN4M&access_type=offline&code_challenge=jWKRADIA2o3DeknygMtKWEVM_E1hXmNy-92GY0mbGJQ&code_challenge_method=S256\n",
      "\n",
      "\n",
      "You are now logged in as [info@dataopslabs.com].\n",
      "Your current project is [vertexllama].  You can change this setting by running:\n",
      "  $ gcloud config set project PROJECT_ID\n",
      "\u001b[1;33mWARNING:\u001b[0m Your active project does not match the quota project in your local Application Default Credentials file. This might result in unexpected quota issues.\n",
      "\n",
      "To update your Application Default Credentials quota project, use the `gcloud auth application-default set-quota-project` command.\n",
      "Updated property [core/project].\n"
     ]
    }
   ],
   "source": [
    "! gcloud auth login\n",
    "! gcloud config set project vertexllama"
   ]
  },
  {
   "cell_type": "code",
   "execution_count": 5,
   "metadata": {},
   "outputs": [],
   "source": [
    "from langchain_google_vertexai import VertexAI\n",
    "\n",
    "# To use model\n",
    "model = VertexAI(model_name=\"gemini-pro\")"
   ]
  },
  {
   "cell_type": "code",
   "execution_count": 6,
   "metadata": {},
   "outputs": [],
   "source": [
    "# To specify a particular model version\n",
    "model = VertexAI(model_name=\"gemini-1.0-pro-002\")"
   ]
  },
  {
   "cell_type": "code",
   "execution_count": 7,
   "metadata": {},
   "outputs": [
    {
     "name": "stderr",
     "output_type": "stream",
     "text": [
      "/opt/homebrew/lib/python3.11/site-packages/google/auth/_default.py:76: UserWarning: Your application has authenticated using end user credentials from Google Cloud SDK without a quota project. You might receive a \"quota exceeded\" or \"API not enabled\" error. See the following page for troubleshooting: https://cloud.google.com/docs/authentication/adc-troubleshooting/user-creds. \n",
      "  warnings.warn(_CLOUD_SDK_CREDENTIALS_WARNING)\n"
     ]
    },
    {
     "data": {
      "text/plain": [
       "'## Pros of Python:\\n\\n**1. Easy to learn and read:** Python has a simple and intuitive syntax, making it easier for beginners to learn and understand compared to other languages. Its code is often described as \"readable like English,\" which makes it easier for developers to collaborate and maintain codebases.\\n**2. Versatile and multi-purpose:** Python can be used for a wide range of tasks, including web development, data science, machine learning, scripting, automation, and more. This versatility makes it a valuable tool for developers with diverse interests and project needs.\\n**3. Large and supportive community:** Python has a vast and active community of developers worldwide. This translates to ample online resources, tutorials, documentation, and forums where beginners and experienced developers can find help and connect with others.\\n**4. Extensive libraries and frameworks:** Python boasts a rich ecosystem of powerful libraries and frameworks that cater to various tasks and domains. These pre-built tools and modules save developers time and effort, allowing them to focus on the core logic of their applications.\\n**5. Cross-platform compatibility:** Python code can run on various operating systems, including Windows, macOS, Linux, and Unix, without requiring major modifications. This makes it a great choice for developing applications that need to work across different platforms.\\n**6. Focus on readability and maintainability:** Python emphasizes code clarity and maintainability through features like indentation, whitespace, and dynamic typing. This makes it easier for developers to understand and modify code written by others, improving collaboration and long-term project sustainability.\\n**7. Relatively fast execution speed:** While not the fastest language, Python offers decent execution speed for most tasks. Additionally, its libraries and frameworks often employ optimization techniques to further enhance performance.\\n\\n## Cons of Python:\\n\\n**1. Interpreted language:** Python code is executed line by line, making it slower than compiled languages like C or Java, especially for computationally intensive tasks.\\n**2. Dynamic typing:** While dynamic typing offers flexibility, it can lead to runtime errors that are not caught during compilation, potentially causing unexpected behavior.\\n**3. Limited mobile development:** Python is not widely used for native mobile app development, although frameworks like Kivy and BeeWare exist. Developers often turn to other languages like Java (Android) or Swift (iOS) for mobile app development.\\n**4. Global Interpreter Lock (GIL):** The presence of the GIL in Python limits the true potential of multithreading by preventing multiple threads from executing Python bytecode simultaneously. This can be a bottleneck for applications that require heavy parallel processing.\\n**5. Memory management:** Python uses automatic garbage collection, which can sometimes lead to memory leaks or unexpected behavior if not handled properly. Developers need to be aware of memory management practices to avoid performance issues.\\n\\n## Conclusion:\\n\\nPython is a powerful and versatile language with a gentle learning curve, making it a popular choice for beginners and experienced developers alike. Its strengths lie in its readability, extensive libraries, and cross-platform compatibility. However, it has limitations in terms of execution speed, dynamic typing, and mobile development.\\n\\nUltimately, the choice of language depends on the specific project requirements and developer preferences. Python\\'s overall strengths often outweigh its weaknesses, making it a compelling choice for various applications.'"
      ]
     },
     "execution_count": 7,
     "metadata": {},
     "output_type": "execute_result"
    }
   ],
   "source": [
    "message = \"What are some of the pros and cons of Python as a programming language?\"\n",
    "model.invoke(message)"
   ]
  },
  {
   "cell_type": "code",
   "execution_count": null,
   "metadata": {},
   "outputs": [
    {
     "data": {
      "text/plain": [
       "\"## Pros of Python:\\n\\n* **Easy to learn and read:** Python has a simple and intuitive syntax, making it a great choice for beginners and experienced programmers alike.\\n* **Versatile:** Python can be used for a wide range of tasks, including web development, data science, machine learning, automation, and more.\\n* **Large and active community:** Python has a vast and active community of developers, which means there are plenty of resources available to help you learn and solve problems.\\n* **Extensive libraries and frameworks:** Python has a rich ecosystem of libraries and frameworks that can be used to accomplish almost any task.\\n* **Cross-platform:** Python runs on all major operating systems, making it a portable and convenient choice.\\n* **Free and open-source:** Python is free to use and distribute, making it accessible to everyone.\\n* **Interpreted:** Python code is executed line by line, which makes it easier to debug and test.\\n\\n## Cons of Python:\\n\\n* **Dynamically typed:** Python is a dynamically typed language, which can sometimes lead to runtime errors.\\n* **Slower execution speed:** Python is generally slower than compiled languages like C++ and Java.\\n* **Global Interpreter Lock (GIL):** The GIL limits the use of multiple CPU cores, which can impact performance for certain types of tasks.\\n* **Large memory footprint:** Python programs tend to use more memory than programs written in compiled languages.\\n* **Not suitable for all tasks:** While Python is versatile, it might not be the best choice for tasks that require high performance or low-level control.\\n\\n## Conclusion:\\n\\nOverall, Python is a great choice for many programming tasks, especially for beginners and those who value ease of use and versatility. However, it's important to be aware of its limitations before choosing it for a particular project.\""
      ]
     },
     "execution_count": 8,
     "metadata": {},
     "output_type": "execute_result"
    }
   ],
   "source": [
    "await model.ainvoke(message)"
   ]
  },
  {
   "cell_type": "code",
   "execution_count": null,
   "metadata": {},
   "outputs": [
    {
     "name": "stdout",
     "output_type": "stream",
     "text": [
      "{\n",
      "  \"topic\": \"Agentic AI\",\n",
      "  \"summary\": \"Agentic AI is a research area that aims to endow artificial agents with a sense of agency, allowing them to act autonomously and make their own decisions. This is in contrast to traditional AI systems, which are typically rule-based or reactive. Some examples of agentic AI systems include self-driving cars, personal assistants, and autonomous robots. There are a number of potential benefits to developing agentic AI systems. For example, they could be used to automate tasks that are currently performed by humans, such as driving or customer service. They could also be used to create new products and services that are not possible with traditional AI systems. However, there are also some potential risks associated with agentic AI. For example, there is a risk that agentic AI systems could become too powerful and independent, leading to a loss of human control. Additionally, there is a risk that agentic AI systems could be used for malicious purposes, such as cybercrime or terrorism. As a result, it is important to carefully consider the potential risks and benefits of agentic AI before developing such systems.\"\n",
      "}\n",
      "Response indexed in Elasticsearch successfully!\n"
     ]
    }
   ],
   "source": [
    "from langchain_core.output_parsers import JsonOutputParser\n",
    "from langchain_core.prompts import PromptTemplate\n",
    "from langchain_core.pydantic_v1 import BaseModel, Field\n",
    "from langchain_google_vertexai import VertexAI\n",
    "import json  # For formatting the output as JSON\n",
    "from datetime import datetime\n",
    "from elasticsearch import Elasticsearch\n",
    "\n",
    "# Define the Bedrock model with specific parameters (temperature, max tokens)\n",
    "llm = VertexAI(model_name=\"gemini-1.0-pro-002\")\n",
    "\n",
    "# Create a Pydantic data model for the expected response structure\n",
    "class TechAdvancementSummary(BaseModel):\n",
    "    topic: str = Field(description=\"The topic under discussion, e.g., 'Agentic AI'\")\n",
    "    summary: str = Field(description=\"A summarized description of advancements for the topic\")\n",
    "\n",
    "# Define a query asking for a summary of advancements in a specific topic\n",
    "tech_query = \"Summarize the advancements in Agentic AI.\"\n",
    "\n",
    "# Set up a JSON output parser to validate and parse the model response into the Pydantic structure\n",
    "parser = JsonOutputParser(pydantic_object=TechAdvancementSummary)\n",
    "\n",
    "# Create a prompt template to structure the query and ensure correct formatting of the output\n",
    "prompt = PromptTemplate(\n",
    "    template=\"Provide a summary for the following topic.\\n{format_instructions}\\n{query}\\n\",\n",
    "    input_variables=[\"query\"],\n",
    "    partial_variables={\"format_instructions\": parser.get_format_instructions()},  # Format instructions for JSON\n",
    ")\n",
    "\n",
    "# Create a chain that ties together the prompt, model (LLM), and parser\n",
    "chain = prompt | llm | parser\n",
    "\n",
    "# Invoke the chain to get the structured response as a dictionary\n",
    "response = chain.invoke({\"query\": tech_query})\n",
    "\n",
    "# Format the response as a JSON string and print it in a readable format\n",
    "print(json.dumps(response, indent=2))\n",
    "\n",
    "# Elasticsearch setup\n",
    "es = Elasticsearch(\n",
    "    api_key=\"useyours\",\n",
    "    cloud_id=\"useyours\"\n",
    ")\n",
    "\n",
    "# Prepare the data for Elasticsearch\n",
    "doc = {\n",
    "    \"timestamp\": datetime.now().isoformat(),\n",
    "    \"prompt_template\": {\n",
    "        \"input_variables\": prompt.input_variables,\n",
    "        \"partial_variables\": prompt.partial_variables,\n",
    "        \"template\": prompt.template\n",
    "    },\n",
    "    \"output\": response  # Store model output\n",
    "}\n",
    "\n",
    "# Index the document into Elasticsearch\n",
    "es.index(index=\"ai-responses-gemini\", document=doc)\n",
    "\n",
    "# Display the result\n",
    "print(\"Response indexed in Elasticsearch successfully!\")"
   ]
  }
 ],
 "metadata": {
  "kernelspec": {
   "display_name": "Python 3",
   "language": "python",
   "name": "python3"
  },
  "language_info": {
   "codemirror_mode": {
    "name": "ipython",
    "version": 3
   },
   "file_extension": ".py",
   "mimetype": "text/x-python",
   "name": "python",
   "nbconvert_exporter": "python",
   "pygments_lexer": "ipython3",
   "version": "3.11.9"
  }
 },
 "nbformat": 4,
 "nbformat_minor": 2
}
